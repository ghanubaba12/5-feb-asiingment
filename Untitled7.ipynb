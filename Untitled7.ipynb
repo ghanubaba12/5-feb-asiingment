{
 "cells": [
  {
   "cell_type": "code",
   "execution_count": null,
   "id": "09b7e516-6f14-4c5b-b5c5-f0b9b691a61d",
   "metadata": {},
   "outputs": [],
   "source": [
    "\"\"\"Q1. Explain Class and Object with respect to Object-Oriented Programming. Give a suitable example.\"\"\""
   ]
  },
  {
   "cell_type": "code",
   "execution_count": null,
   "id": "1ed99a3f-e049-4755-a602-79637a1ca915",
   "metadata": {},
   "outputs": [],
   "source": [
    "Class is a blueprint or template that defines the properties and methods of an object. It represents a general category of objects and serves as a basis for creating specific instances of that object, known as objects.\n",
    "\n",
    "Object is an instance of a class, created at runtime, which has its own state, behavior, and identity. It represents a single instance of the class and provides a way to access and manipulate the properties and methods defined in the class.\n",
    "\n",
    "For example, consider a class \"Person\" that defines the properties and methods of a person, such as name, age, and occupation. An object could be \"John Doe\", who is 30 years old and works as a software engineer. This instance of the class \"Person\" has its own unique state and behavior that distinguishes it from other instances of the same class."
   ]
  },
  {
   "cell_type": "code",
   "execution_count": null,
   "id": "151475fd-d227-46c7-98a8-7551afc61781",
   "metadata": {},
   "outputs": [],
   "source": [
    "\"\"\"Q2. Name the four pillars of OOPs.\"\"\""
   ]
  },
  {
   "cell_type": "code",
   "execution_count": null,
   "id": "120c0914-d9ad-41e9-9f5e-ca8a7364250d",
   "metadata": {},
   "outputs": [],
   "source": [
    "The four pillars of Object-Oriented Programming (OOP) are:\n",
    "\n",
    "Abstraction: Abstraction refers to the practice of hiding the implementation details and exposing only the essential features of an object, making it easier to understand and use.\n",
    "\n",
    "Encapsulation: Encapsulation refers to the process of wrapping data and functions within an object to protect them from outside interference and misuse.\n",
    "\n",
    "Inheritance: Inheritance refers to the ability of an object to inherit properties and behaviors from a parent object, creating a hierarchy of objects that share common attributes.\n",
    "\n",
    "Polymorphism: Polymorphism refers to the ability of objects to take on multiple forms. This means that an object can be used interchangeably with objects of other classes, as long as they have the same methods."
   ]
  },
  {
   "cell_type": "code",
   "execution_count": null,
   "id": "64d3978c-99f6-44b7-9e10-8a93f135b64c",
   "metadata": {},
   "outputs": [],
   "source": [
    "\"\"\"Q3. Explain why the __init__() function is used. Give a suitable example.\"\"\""
   ]
  },
  {
   "cell_type": "code",
   "execution_count": null,
   "id": "4bdc5214-13a8-467c-959c-4f4e0dc35064",
   "metadata": {},
   "outputs": [],
   "source": [
    "The __init__() function is a special method in Python classes that is automatically executed when an object of the class is created. It is used to initialize the object's state, by setting the initial values of its attributes. The __init__() function is called the constructor, and it is the first method that is executed when an object is created.\n",
    "\n",
    "For example, consider a class \"Person\" with attributes name, age, and occupation:"
   ]
  },
  {
   "cell_type": "code",
   "execution_count": null,
   "id": "7c0f533a-0abe-48be-8c5c-d4873c35f0c8",
   "metadata": {},
   "outputs": [],
   "source": [
    "person = Person(\"John Doe\", 30, \"Software Engineer\")\n",
    "\n",
    "\n",
    "In this example, the __init__() function sets the initial values of the object's name, age, and occupation attributes to \"John Doe\", 30, and \"Software Engineer\" respectively.\n"
   ]
  },
  {
   "cell_type": "code",
   "execution_count": null,
   "id": "80265a75-f513-4a2c-9cf4-db8c97bb8d62",
   "metadata": {},
   "outputs": [],
   "source": [
    "\"\"\"Q4. Why self is used in OOPs?\"\"\""
   ]
  },
  {
   "cell_type": "code",
   "execution_count": null,
   "id": "72abf3d3-c65e-4d3a-a03d-5f2af2eb0e69",
   "metadata": {},
   "outputs": [],
   "source": [
    "In object-oriented programming (OOP), the self keyword is used to refer to the instance of the object that is calling a method. It is the equivalent of the this keyword in other programming languages.\n",
    "\n",
    "The self parameter is always the first parameter in a method definition, and it is used to refer to the instance of the object that is calling the method. This allows you to access and modify the attributes and methods of the object from within the method.\n",
    "\n",
    "For example, consider a class \"Person\" with an attribute \"name\" and a method \"greet()\":\n",
    "\n",
    "ruby\n",
    "Copy code\n",
    "class Person:"
   ]
  },
  {
   "cell_type": "code",
   "execution_count": 2,
   "id": "7ccb88b1-b177-4997-a3a1-b164e02180cc",
   "metadata": {},
   "outputs": [],
   "source": [
    "class Person:\n",
    "    def __init__(self, name):\n",
    "        self.name = name\n",
    "        \n",
    "    def greet(self):\n",
    "        print(\"Hello, my name is\", self.name)\n"
   ]
  },
  {
   "cell_type": "code",
   "execution_count": null,
   "id": "abb34026-6bce-497d-82db-b0b73d2e9a14",
   "metadata": {},
   "outputs": [],
   "source": [
    "Without the self parameter, it would not be possible to access the attributes and methods of the object from within the method."
   ]
  },
  {
   "cell_type": "code",
   "execution_count": null,
   "id": "38f3e376-317b-48ea-9cd9-72496770511b",
   "metadata": {},
   "outputs": [],
   "source": [
    "\"\"\"Q5. What is inheritance? Give an example for each type of inheritance.\"\"\""
   ]
  },
  {
   "cell_type": "code",
   "execution_count": null,
   "id": "c2b18785-2769-4091-843b-370b4a8d37e6",
   "metadata": {},
   "outputs": [],
   "source": []
  },
  {
   "cell_type": "code",
   "execution_count": null,
   "id": "d240c62c-317d-44a8-a8ec-20851dc4fe69",
   "metadata": {},
   "outputs": [],
   "source": []
  },
  {
   "cell_type": "code",
   "execution_count": null,
   "id": "405ca1f9-443d-403c-b545-086b7ac256a5",
   "metadata": {},
   "outputs": [],
   "source": []
  }
 ],
 "metadata": {
  "kernelspec": {
   "display_name": "Python 3 (ipykernel)",
   "language": "python",
   "name": "python3"
  },
  "language_info": {
   "codemirror_mode": {
    "name": "ipython",
    "version": 3
   },
   "file_extension": ".py",
   "mimetype": "text/x-python",
   "name": "python",
   "nbconvert_exporter": "python",
   "pygments_lexer": "ipython3",
   "version": "3.10.8"
  }
 },
 "nbformat": 4,
 "nbformat_minor": 5
}
